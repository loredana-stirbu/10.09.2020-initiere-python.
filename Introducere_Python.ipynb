{
  "nbformat": 4,
  "nbformat_minor": 0,
  "metadata": {
    "colab": {
      "name": "Introducere Python.ipynb",
      "provenance": [],
      "collapsed_sections": [],
      "toc_visible": true,
      "include_colab_link": true
    },
    "kernelspec": {
      "name": "python3",
      "display_name": "Python 3"
    }
  },
  "cells": [
    {
      "cell_type": "markdown",
      "metadata": {
        "id": "view-in-github",
        "colab_type": "text"
      },
      "source": [
        "<a href=\"https://colab.research.google.com/github/loredana-stirbu/10.09.2020-initiere-python./blob/master/Introducere_Python.ipynb\" target=\"_parent\"><img src=\"https://colab.research.google.com/assets/colab-badge.svg\" alt=\"Open In Colab\"/></a>"
      ]
    },
    {
      "cell_type": "markdown",
      "metadata": {
        "id": "J3Jp1FANqvXn"
      },
      "source": [
        "# Introducere"
      ]
    },
    {
      "cell_type": "markdown",
      "metadata": {
        "id": "Ost-L4s6rh9Q"
      },
      "source": [
        "### Ce vom învăța astăzi?"
      ]
    },
    {
      "cell_type": "markdown",
      "metadata": {
        "id": "zPyhH2iCrrSt"
      },
      "source": [
        "\n",
        "\n",
        "*   Cum sa utilizăm Google Colab\n",
        "*   Ce este Python\n",
        "\n",
        "*   Cum scriem în Python\n",
        "*   Ce este o variabilă\n",
        "*   Cum să operăm cu diferite tipuri de date în Python\n",
        "\n",
        "*   La ce ne servește if, elif și else\n",
        "\n",
        "\n",
        "\n",
        "\n",
        "\n",
        "\n",
        "\n",
        "\n",
        "\n",
        "\n",
        "\n",
        "\n",
        "\n"
      ]
    },
    {
      "cell_type": "markdown",
      "metadata": {
        "id": "daNCOodxyuDU"
      },
      "source": [
        "### Cum utilizăm Google Colab?"
      ]
    },
    {
      "cell_type": "code",
      "metadata": {
        "id": "-LZ-0n48v0fm"
      },
      "source": [
        "# apasam shift + enter ca sa rulam aceasta celula"
      ],
      "execution_count": 2,
      "outputs": []
    },
    {
      "cell_type": "code",
      "metadata": {
        "id": "jHk0Alx5isuS"
      },
      "source": [
        "\n",
        "\n"
      ],
      "execution_count": null,
      "outputs": []
    },
    {
      "cell_type": "markdown",
      "metadata": {
        "id": "JiJI1MG6itvm"
      },
      "source": [
        "\n"
      ]
    },
    {
      "cell_type": "code",
      "metadata": {
        "id": "4KTglaXu4DJk"
      },
      "source": [
        "# acum sa cream o celula noua de cod"
      ],
      "execution_count": null,
      "outputs": []
    },
    {
      "cell_type": "code",
      "metadata": {
        "id": "F6X3ePhRxCF0"
      },
      "source": [
        "# iar acum hai sa cream o celula noua de text"
      ],
      "execution_count": null,
      "outputs": []
    },
    {
      "cell_type": "code",
      "metadata": {
        "id": "d3-sMsFavpnZ"
      },
      "source": [
        "# stergeti aceasta celula"
      ],
      "execution_count": 1,
      "outputs": []
    },
    {
      "cell_type": "markdown",
      "metadata": {
        "id": "mYn8enT9xfD5"
      },
      "source": [
        "La stânga avem subiectele pe care le vom invata astazi.\n",
        "\n",
        "Daca vrem sa le accesam rapid, click pe ele! "
      ]
    },
    {
      "cell_type": "markdown",
      "metadata": {
        "id": "Fnf2TOezO0rH"
      },
      "source": [
        "# Intro to Python"
      ]
    },
    {
      "cell_type": "markdown",
      "metadata": {
        "id": "UiXSysYxsxp7"
      },
      "source": [
        "### Ce este Python?"
      ]
    },
    {
      "cell_type": "markdown",
      "metadata": {
        "id": "3RijGUwwtvp8"
      },
      "source": [
        "Cum comunica oamenii intre ei?\n",
        "La general vorbind ei folosesc ca mijloc de comunicare diferite limbaje care sunt alcatuit din grupuri de sunete, semne sau forme. \n",
        "\n",
        "Dar cum comunica oamenii cu calculatoarele? \n",
        "\n",
        "La fel folosesc limbaje, care se numesc limbaje de programare. \n",
        "Cum functioneaza? \n",
        "\n",
        "Cand vrem calculatorul sa ne rezolve o problema, ii dam instructiunile necesare 'in limba lui' adica in formatul unui anumit limbaj de programare, calculatorul le executa si ne ofera un rezultat.\n",
        "\n",
        "Ei..., un astfel de limbaj de programare este Python! "
      ]
    },
    {
      "cell_type": "markdown",
      "metadata": {
        "id": "Pxj4fKcVJpLE"
      },
      "source": [
        "![link text](https://girlsgoitpublic.z6.web.core.windows.net/c1_1.png)"
      ]
    },
    {
      "cell_type": "markdown",
      "metadata": {
        "id": "qD7pUDXXoy82"
      },
      "source": [
        "### Sintaxa pythonica"
      ]
    },
    {
      "cell_type": "markdown",
      "metadata": {
        "id": "T4kF5D5D0WEq"
      },
      "source": [
        "Ca orice limba Python are regulile sale de scriere.\n",
        "\n",
        "Hai sa invatam cateva reguli mai jos."
      ]
    },
    {
      "cell_type": "markdown",
      "metadata": {
        "id": "XiT6j_Il1iFX"
      },
      "source": [
        "![link text](https://girlsgoitpublic.z6.web.core.windows.net/c1_4.png)"
      ]
    },
    {
      "cell_type": "code",
      "metadata": {
        "id": "oYpbV9qWp0Mu",
        "colab": {
          "base_uri": "https://localhost:8080/"
        },
        "outputId": "953d08ac-a21d-4613-b29f-ca38a94b9ff7"
      },
      "source": [
        "print(\"Hello world\") "
      ],
      "execution_count": 3,
      "outputs": [
        {
          "output_type": "stream",
          "text": [
            "Hello world\n"
          ],
          "name": "stdout"
        }
      ]
    },
    {
      "cell_type": "code",
      "metadata": {
        "id": "ODfsljBJyK06"
      },
      "source": [
        "# Python calcula :)\n",
        "5 + 5"
      ],
      "execution_count": null,
      "outputs": []
    },
    {
      "cell_type": "code",
      "metadata": {
        "id": "YRpSg8EAZbdA"
      },
      "source": [
        "# Ce rezultat vom obtine?\n",
        "1 + 2\n",
        "2 + 4"
      ],
      "execution_count": null,
      "outputs": []
    },
    {
      "cell_type": "code",
      "metadata": {
        "id": "tJr1uE7aY2Dn"
      },
      "source": [
        "# Care e diferenta dintre codul celulei de mai sus \n",
        "# si codul acestei celule?\n",
        "print(1 + 2) \n",
        "print(2 + 4)"
      ],
      "execution_count": null,
      "outputs": []
    },
    {
      "cell_type": "code",
      "metadata": {
        "id": "1TVYn6PGZUA1"
      },
      "source": [
        "# Ruleaza acest cod\n",
        "print(2 + 5) print('Hello') "
      ],
      "execution_count": null,
      "outputs": []
    },
    {
      "cell_type": "markdown",
      "metadata": {
        "id": "8pWIYWrJ3rm2"
      },
      "source": [
        "...oops! de ce avem aceasta eroare?"
      ]
    },
    {
      "cell_type": "code",
      "metadata": {
        "id": "0ITcCEma15Fe"
      },
      "source": [
        "#Acesta este un comentariu\n",
        "# Apasa Ctrl + / pentru a transforma un rand intr-un comentariu\n",
        "\n",
        "# Transforma in comentariu expresia de mai jos\n",
        "# 10 + 5"
      ],
      "execution_count": 6,
      "outputs": []
    },
    {
      "cell_type": "code",
      "metadata": {
        "id": "7PX5YKfQeJui",
        "colab": {
          "base_uri": "https://localhost:8080/"
        },
        "outputId": "81e7ce56-5f27-4fbb-fd37-1b5c35085bc8"
      },
      "source": [
        "# Afiseaza in doua randuri separate \n",
        "# rezultatele acestor expresii matematice: \n",
        "print(25-48)\n",
        "print(487+56) \n",
        "\n"
      ],
      "execution_count": 7,
      "outputs": [
        {
          "output_type": "stream",
          "text": [
            "-23\n",
            "543\n"
          ],
          "name": "stdout"
        }
      ]
    },
    {
      "cell_type": "markdown",
      "metadata": {
        "id": "fhNWA6msywAo"
      },
      "source": [
        "Intrebari?"
      ]
    },
    {
      "cell_type": "markdown",
      "metadata": {
        "id": "MEvinQv9qGHB"
      },
      "source": [
        "# Variabile în Python"
      ]
    },
    {
      "cell_type": "markdown",
      "metadata": {
        "id": "KtO3u4Ln62tv"
      },
      "source": [
        "Mai devreme am învățat cum să calculăm în Python expresii simple matematice și să afișăm texte. \n",
        "\n",
        "Acum o să învățăm cum să salvăm valori în Python.\n",
        "\n",
        "Putem păstra anumite **valori**, atribuindu-le unor **variabile**."
      ]
    },
    {
      "cell_type": "markdown",
      "metadata": {
        "id": "YHVl0-Px60ug"
      },
      "source": [
        "**Variabile** : etichete atașate datelor (inclusiv text sau chiar cod) "
      ]
    },
    {
      "cell_type": "markdown",
      "metadata": {
        "id": "jx4bxAah8hOj"
      },
      "source": [
        "Sau cu alte cuvinte, o **variabilă** este ca un **nume** pentru o **valoare**."
      ]
    },
    {
      "cell_type": "code",
      "metadata": {
        "id": "O50Ioxc8rBK6"
      },
      "source": [
        "# care sunt variabile din codul de mai jos?\n",
        "x = 5\n",
        "limbaj_de_programare = \"python\"\n",
        "\n",
        "print(x, limbaj_de_programare)"
      ],
      "execution_count": null,
      "outputs": []
    },
    {
      "cell_type": "markdown",
      "metadata": {
        "id": "dIRWjIwxVnBs"
      },
      "source": [
        "Task: 3 min"
      ]
    },
    {
      "cell_type": "code",
      "metadata": {
        "id": "SwZmkkxggRkz",
        "colab": {
          "base_uri": "https://localhost:8080/"
        },
        "outputId": "d2afad25-a396-458c-c60f-7d500420f100"
      },
      "source": [
        "# creaza 2 variabile: \n",
        "# prima sa indice prenumele tau\n",
        "# a doua sa indice numele tau de familie\n",
        "# afiseaza aceaste variabile intr-un rand\n",
        "prenumele= 'Loredana'\n",
        "numele='Stirbu'\n",
        "print(prenumele,numele)"
      ],
      "execution_count": 8,
      "outputs": [
        {
          "output_type": "stream",
          "text": [
            "Loredana Stirbu\n"
          ],
          "name": "stdout"
        }
      ]
    },
    {
      "cell_type": "markdown",
      "metadata": {
        "id": "qY76PpyprXKT"
      },
      "source": [
        "O variabilă poate avea un nume scurt (precum x și y) sau un nume mai descriptiv (age, name, total_volume).\n",
        " Reguli pentru variabilele Python:\n",
        "* o variabilă trebuie să înceapă cu o literă sau un caracter de subliniere_\n",
        "* o variabilă nu poate să înceapă cu un număr\n",
        "* o variabilă nu poate conține decât caractere alfa-numerice și scrise (A-z, 0-9 și _)\n",
        "*Denumirile de variabilă sunt sensibile la majuscule/case-sensitive (name, Name și NAME sunt trei variabile diferite)"
      ]
    },
    {
      "cell_type": "code",
      "metadata": {
        "id": "zc9FGNqosdoK"
      },
      "source": [
        "#definirea corectă a variabilelor:\n",
        "my_var = \"John\" #snake_case - varianta recomandata\n",
        "myvar = \"John\"\n",
        "_my_var = \"John\"\n",
        "myVar = \"John\"\n",
        "MYVAR = \"John\" \n",
        "myvar2 = \"John\""
      ],
      "execution_count": null,
      "outputs": []
    },
    {
      "cell_type": "code",
      "metadata": {
        "id": "kdjdSumIfhV7",
        "colab": {
          "base_uri": "https://localhost:8080/",
          "height": 128
        },
        "outputId": "6054e150-f74c-4431-860f-496002e5ddd1"
      },
      "source": [
        "#definirea incorectă:\n",
        "2myvar = \"John\"\n",
        "my-var = \"John\"\n",
        "my var = \"John\""
      ],
      "execution_count": 9,
      "outputs": [
        {
          "output_type": "error",
          "ename": "SyntaxError",
          "evalue": "ignored",
          "traceback": [
            "\u001b[0;36m  File \u001b[0;32m\"<ipython-input-9-fedb1e95c086>\"\u001b[0;36m, line \u001b[0;32m2\u001b[0m\n\u001b[0;31m    2myvar = \"John\"\u001b[0m\n\u001b[0m         ^\u001b[0m\n\u001b[0;31mSyntaxError\u001b[0m\u001b[0;31m:\u001b[0m invalid syntax\n"
          ]
        }
      ]
    },
    {
      "cell_type": "code",
      "metadata": {
        "id": "9jM6JMs2b7OV"
      },
      "source": [
        "# avem numele 'Ilinca' atribuit variabilei name\n",
        "name = 'Ilinca'\n",
        "print(name)"
      ],
      "execution_count": null,
      "outputs": []
    },
    {
      "cell_type": "code",
      "metadata": {
        "id": "wjrzfRcVcFPN"
      },
      "source": [
        "# acum atribuim numele 'Marina' la fel variabilei name\n",
        "\n",
        "name = 'Marina'\n",
        "print(name, name)\n",
        "\n",
        "# ce s-a intamplat cu numele 'Ilinca'? De ce?"
      ],
      "execution_count": null,
      "outputs": []
    },
    {
      "cell_type": "code",
      "metadata": {
        "id": "ntAhSWCRcr-b"
      },
      "source": [
        "# creati variabile diferite ca sa nu pierdeti valori\n",
        "a = 10\n",
        "b = -20\n",
        "print(a, b)"
      ],
      "execution_count": null,
      "outputs": []
    },
    {
      "cell_type": "code",
      "metadata": {
        "id": "67hz331HfVRm",
        "colab": {
          "base_uri": "https://localhost:8080/"
        },
        "outputId": "41378672-5a1c-467d-84f4-846471fa7214"
      },
      "source": [
        "# ce valoare va avea variabila result? de ce?\n",
        "result = 2 + 2\n",
        "print(result + 10)\n",
        "print(result)"
      ],
      "execution_count": 10,
      "outputs": [
        {
          "output_type": "stream",
          "text": [
            "14\n",
            "4\n"
          ],
          "name": "stdout"
        }
      ]
    },
    {
      "cell_type": "code",
      "metadata": {
        "id": "nJ_f-a2WhRKG"
      },
      "source": [
        "# ce valoare va avea variabila x? de ce?\n",
        "x = 20\n",
        "print(x)\n",
        "print(x + 80)\n",
        "\n",
        "x = x + 80\n",
        "print(x)"
      ],
      "execution_count": null,
      "outputs": []
    },
    {
      "cell_type": "markdown",
      "metadata": {
        "id": "kDxyIPFdi2Q4"
      },
      "source": [
        "Întrebări ❓"
      ]
    },
    {
      "cell_type": "markdown",
      "metadata": {
        "id": "oBT149litX0c"
      },
      "source": [
        "#Tipuri de date în Python \n",
        "\n",
        "În programare, **tipul de date**(Data Type) este un concept important.\n",
        "\n",
        "Variabilele pot stoca diferite tipuri de date.\n",
        "\n",
        "Python are următoarele tipuri de date încorporate în mod implicit, în aceste categorii:\n",
        "\n",
        "* Text Type:\t**`str`**  \n",
        "* Numeric Types:\t**`int`, `float`,** `complex `  \n",
        "* Sequence Types:\t**`list`**, `tuple`, `range`  \n",
        "* Mapping Type:\t`dict`\n",
        "* Set Types:\t`set`, `frozenset`\n",
        "* Boolean Type:\t**`bool`**  \n",
        "* Binary Types:\t`bytes`, `bytearray`, `memoryview`"
      ]
    },
    {
      "cell_type": "markdown",
      "metadata": {
        "id": "JDFivqBc1Lyi"
      },
      "source": [
        "**str**, un sir de caractere (un text)"
      ]
    },
    {
      "cell_type": "code",
      "metadata": {
        "id": "0Gw82Kbounom"
      },
      "source": [
        "# poate fi orice caracter in \" \"\n",
        "x = \"Hello World\" \n",
        "y = '13478*/+'"
      ],
      "execution_count": null,
      "outputs": []
    },
    {
      "cell_type": "markdown",
      "metadata": {
        "id": "136wTzOgW0cF"
      },
      "source": [
        "`type()` -  funcție care ne spune ce tip de date conține variabila data.\n",
        "\n",
        "Deși înca nu am învățat ce sunt funcțiile, noi deja le folosim. \n",
        "\n",
        "`print()` la fel e o funcție.\n",
        "\n"
      ]
    },
    {
      "cell_type": "code",
      "metadata": {
        "id": "ns4193gaXwT_"
      },
      "source": [
        "# haideti sa ne convingem \n",
        "# ca variabilele x si y au valori de tip `string`\n",
        "\n",
        "print(type(x))\n",
        "print(type(y))"
      ],
      "execution_count": null,
      "outputs": []
    },
    {
      "cell_type": "code",
      "metadata": {
        "id": "uPbfjEunL_r0"
      },
      "source": [
        "# atribuie variabilei my_mood valoarea: I'm happy!\n",
        "my_mood = ''\n",
        "print(my_mood)"
      ],
      "execution_count": null,
      "outputs": []
    },
    {
      "cell_type": "markdown",
      "metadata": {
        "id": "sHScPtkx0c6E"
      },
      "source": [
        "\n",
        "**Int**, sau un număr întreg, este un număr întreg, pozitiv sau negativ, fără zecimale, de lungime nelimitată."
      ]
    },
    {
      "cell_type": "code",
      "metadata": {
        "id": "KUsl-KnLu3gI"
      },
      "source": [
        "# afiseaza tipul de date a valorii lui x\n",
        "x = 10\n"
      ],
      "execution_count": null,
      "outputs": []
    },
    {
      "cell_type": "markdown",
      "metadata": {
        "id": "9PNTDUUR0s8e"
      },
      "source": [
        "**Float**, sau numarul rational este un număr, pozitiv sau negativ, care conține unul sau mai multe zecimale."
      ]
    },
    {
      "cell_type": "code",
      "metadata": {
        "id": "ANr2PnZdzqIX"
      },
      "source": [
        "# iata cum arata un float\n",
        "x = 20.5 \n",
        "\n",
        "print(x, type(x))"
      ],
      "execution_count": null,
      "outputs": []
    },
    {
      "cell_type": "markdown",
      "metadata": {
        "id": "yjFG6opn1i81"
      },
      "source": [
        "\n",
        "**bool** reprezintă una dintre cele două valori: True (Adevărat) sau False (Fals)"
      ]
    },
    {
      "cell_type": "code",
      "metadata": {
        "id": "Do_6fkiez5qP"
      },
      "source": [
        "# bool de la boolean :)\n",
        "x = True \n",
        "type(x)"
      ],
      "execution_count": null,
      "outputs": []
    },
    {
      "cell_type": "markdown",
      "metadata": {
        "id": "1GplZlhUXl9E"
      },
      "source": [
        "## Cum convertim dintr-un tip de date în alt tip de date?"
      ]
    },
    {
      "cell_type": "code",
      "metadata": {
        "id": "rg6-AaQaWLJW"
      },
      "source": [
        "x = 2.5\n",
        "print(type(x))\n",
        "\n",
        "x = int(x)\n",
        "print(x)\n",
        "print(type(x))\n"
      ],
      "execution_count": null,
      "outputs": []
    },
    {
      "cell_type": "code",
      "metadata": {
        "id": "q1plqduCX2mW"
      },
      "source": [
        "x = '5'\n",
        "print(type(x))\n",
        "\n",
        "x = float(x)\n",
        "print(x)\n",
        "print(type(x))"
      ],
      "execution_count": null,
      "outputs": []
    },
    {
      "cell_type": "code",
      "metadata": {
        "id": "h_eROObvX-n9"
      },
      "source": [
        "x = 10\n",
        "print(type(x))\n",
        "\n",
        "x = str(x)\n",
        "print(x)\n",
        "print(type(x))"
      ],
      "execution_count": null,
      "outputs": []
    },
    {
      "cell_type": "code",
      "metadata": {
        "id": "kxSPFytvYO1d"
      },
      "source": [
        "x = '10a'\n",
        "print(type(x))\n",
        "\n",
        "x = float(x)\n",
        "print(x)\n",
        "print(type(x))\n",
        "\n",
        "\n",
        "# de ce avem eroare?"
      ],
      "execution_count": null,
      "outputs": []
    },
    {
      "cell_type": "markdown",
      "metadata": {
        "id": "dfJf37kdi6vD"
      },
      "source": [
        "Intrebari ❓"
      ]
    },
    {
      "cell_type": "markdown",
      "metadata": {
        "id": "jUSzmtnB9XW0"
      },
      "source": [
        "# Operatori "
      ]
    },
    {
      "cell_type": "code",
      "metadata": {
        "id": "AZEnaVVs9rOo"
      },
      "source": [
        "# adunare\n",
        "15 + 25"
      ],
      "execution_count": null,
      "outputs": []
    },
    {
      "cell_type": "code",
      "metadata": {
        "id": "psFH22E7-Msh"
      },
      "source": [
        "# scadere\n",
        "25 - 15 "
      ],
      "execution_count": null,
      "outputs": []
    },
    {
      "cell_type": "code",
      "metadata": {
        "id": "NCQoYaUm-S-f"
      },
      "source": [
        "# imapartire\n",
        "20 / 3.5"
      ],
      "execution_count": null,
      "outputs": []
    },
    {
      "cell_type": "code",
      "metadata": {
        "id": "3JhvjR0S-e-I"
      },
      "source": [
        "# inmultire\n",
        "3 * 5"
      ],
      "execution_count": null,
      "outputs": []
    },
    {
      "cell_type": "code",
      "metadata": {
        "id": "znX2grD7-mEZ"
      },
      "source": [
        "# ???\n",
        "5 ** 2"
      ],
      "execution_count": null,
      "outputs": []
    },
    {
      "cell_type": "code",
      "metadata": {
        "id": "ed2a39YV-uCm"
      },
      "source": [
        "# cat o sa fie restul impartirii?\n",
        "25 % 15"
      ],
      "execution_count": null,
      "outputs": []
    },
    {
      "cell_type": "code",
      "metadata": {
        "id": "_VYZR-U4_ajY"
      },
      "source": [
        "# semnul mai mare\n",
        "25 > 15\n",
        "\n",
        "# ce rezultat vom avea?"
      ],
      "execution_count": null,
      "outputs": []
    },
    {
      "cell_type": "code",
      "metadata": {
        "id": "ID2MIYv3_lbX"
      },
      "source": [
        "# semnul mai mic\n",
        "25 < 15"
      ],
      "execution_count": null,
      "outputs": []
    },
    {
      "cell_type": "code",
      "metadata": {
        "id": "l7z98W56_6ej"
      },
      "source": [
        "# semnul mai mic sau egal\n",
        "25 <= 25"
      ],
      "execution_count": null,
      "outputs": []
    },
    {
      "cell_type": "code",
      "metadata": {
        "id": "6UV8QKDeATb8"
      },
      "source": [
        "# semnul mai mare sau egal\n",
        "10 >= 5"
      ],
      "execution_count": null,
      "outputs": []
    },
    {
      "cell_type": "code",
      "metadata": {
        "id": "_6EvSEJYAaz0"
      },
      "source": [
        "# ???\n",
        "30 == 30"
      ],
      "execution_count": null,
      "outputs": []
    },
    {
      "cell_type": "code",
      "metadata": {
        "id": "dAj4IgMoAlZY"
      },
      "source": [
        "# ???\n",
        "30 != 30"
      ],
      "execution_count": null,
      "outputs": []
    },
    {
      "cell_type": "code",
      "metadata": {
        "id": "0cVBBMyZBJHI"
      },
      "source": [
        "# o mica recapitulare:\n",
        "# ce valoare are c, d si e?\n",
        "\n",
        "a = 20\n",
        "b = 30\n",
        "c = (b - a) ** 2 \n",
        "d = a == b \n",
        "e = c % a\n",
        "# print(c)\n",
        "# print(d)\n",
        "# print(e)\n"
      ],
      "execution_count": null,
      "outputs": []
    },
    {
      "cell_type": "markdown",
      "metadata": {
        "id": "2QU4550Tb9e9"
      },
      "source": [
        "**Concatenare**"
      ]
    },
    {
      "cell_type": "code",
      "metadata": {
        "id": "1UrItuHtGUnA"
      },
      "source": [
        "# la ce mai putem sa folosim anumiti operatori?\n",
        "# concatenare\n",
        "\n",
        "string = 'Numele meu este'\n",
        "name = 'Alexandra'\n",
        "phrase = string + name\n",
        "\n",
        "print(phrase)"
      ],
      "execution_count": null,
      "outputs": []
    },
    {
      "cell_type": "code",
      "metadata": {
        "id": "r129qOWCHKQe"
      },
      "source": [
        "# putem sa concatenam stringurile chiar in print()\n",
        "print('Aceasta' + 'este' + 'o' + 'propozitie')"
      ],
      "execution_count": null,
      "outputs": []
    },
    {
      "cell_type": "code",
      "metadata": {
        "id": "50HkeMAxHZTd"
      },
      "source": [
        "# sau putem sa multiplicam un string\n",
        "print('a' * 2)\n",
        "\n",
        "# ce va afisa functia print() de mai jos?\n",
        "\n",
        "# print('b ' * 5)"
      ],
      "execution_count": null,
      "outputs": []
    },
    {
      "cell_type": "code",
      "metadata": {
        "id": "IZBf52oPH1IN"
      },
      "source": [
        "# dar ce vor afisa aceste functii print()?\n",
        "print('c' * 0)\n",
        "# print('c' * -1)\n",
        "# print('c' * 1.5)\n",
        "# print('4' + 3)"
      ],
      "execution_count": null,
      "outputs": []
    },
    {
      "cell_type": "markdown",
      "metadata": {
        "id": "zQWH1U2w3eLo"
      },
      "source": [
        "Intrebari?"
      ]
    },
    {
      "cell_type": "markdown",
      "metadata": {
        "id": "JbBW92v9CTQ9"
      },
      "source": [
        "# Conditionalul **if…elif…else**"
      ]
    },
    {
      "cell_type": "markdown",
      "metadata": {
        "id": "vvLqf1IrhdGL"
      },
      "source": [
        "Dacă tot am învățat mai devreme cum să comparăm datele între ele, acum putem să punem și condiții.\n",
        "\n",
        "Condiția `if` este considerată cea mai simplă dintre cele trei și ia o decizie în funcție dacă condiția e adevărată sau nu. Dacă condiția este adevărată, imprimă expresia indentată. Dacă condiția este falsă, omite imprimarea expresiei indentate.\n"
      ]
    },
    {
      "cell_type": "code",
      "metadata": {
        "id": "WVBfcSQbCTZO"
      },
      "source": [
        "if 100 == 100:          # specificam conditia, si ne amintim sa punem ':'\n",
        "    print(\"I'm happy!\")   # toate instructiunile care urmeaza dupa ':'  \n",
        "                        # trebuie sa fie indentate!!!\n",
        "                        # daca conditia este adevarata, executam instructiunea"
      ],
      "execution_count": null,
      "outputs": []
    },
    {
      "cell_type": "markdown",
      "metadata": {
        "id": "uyU3mIJYmsKo"
      },
      "source": [
        "❗ Este foarte important să **indentăm** corect codul când folosim conditionalul if. \n",
        "\n",
        "In caz contrar vom obține eroarea de mai jos."
      ]
    },
    {
      "cell_type": "code",
      "metadata": {
        "id": "_xFI2q2unYsw"
      },
      "source": [
        "# de ce avem eroare?\n",
        "if 100 == 150:         \n",
        "print(\"I'm happy!\")"
      ],
      "execution_count": null,
      "outputs": []
    },
    {
      "cell_type": "markdown",
      "metadata": {
        "id": "dUZvI1jfnpIW"
      },
      "source": [
        "Dar ce înseamnă indentare?\n",
        "\n",
        "**Indentarea** se referă la spațiile de la începutul unei linii de cod.\n",
        "\n",
        "În cazul în care în alte limbaje de programare indentarea în cod este doar pentru lizibilitate, indentarea în Python este foarte importantă.\n",
        "\n",
        "Python folosește indentare pentru a indica un bloc de cod.\n",
        "\n",
        "Pentru a deplasa o linie de cod spre dreapta la distanța cerută de Python, utilizăm tasta `tab`"
      ]
    },
    {
      "cell_type": "markdown",
      "metadata": {
        "id": "x8xEzA8Bnu0S"
      },
      "source": [
        "![](https://girlsgoitpublic.z6.web.core.windows.net/c1_2.png)\n",
        "\n"
      ]
    },
    {
      "cell_type": "markdown",
      "metadata": {
        "id": "PatHxZlk0KeQ"
      },
      "source": [
        "Sa vedem care e structura **condiționalului if**"
      ]
    },
    {
      "cell_type": "markdown",
      "metadata": {
        "id": "kpIvIClUQg93"
      },
      "source": [
        "![link text](https://girlsgoitpublic.z6.web.core.windows.net/c1_3.png)\n"
      ]
    },
    {
      "cell_type": "markdown",
      "metadata": {
        "id": "yR0Pwmb1PzpP"
      },
      "source": [
        "Când folosim `else`? \n",
        "\n",
        "Când avem doar 2 opțiuni.\n",
        "\n",
        "De exemplu vrem să ne logăm pe pagina noastră de Facebook și trebuie să ne introducem numele. În spatele acestei funcționalități se află un `if` care verifică dacă numele pe care l-am introdus se află în sistemul Facebook-ului sau nu. "
      ]
    },
    {
      "cell_type": "code",
      "metadata": {
        "id": "aIWXcbv2QI7u"
      },
      "source": [
        "# Hai sa improvizam aici un astfel de algoritm\n",
        "in_facebook_system_name = 'Anna'\n",
        "my_name = 'Ana'\n",
        "\n",
        "if my_name == in_facebook_system_name:\n",
        "    print('Numele este corect')\n",
        "else:\n",
        "    print('Numele este gresit')\n",
        "\n"
      ],
      "execution_count": null,
      "outputs": []
    },
    {
      "cell_type": "code",
      "metadata": {
        "id": "XgxkWMObkgYq"
      },
      "source": [
        "# hai sa scriem un algoritm care verifica.          2 min\n",
        "# daca cele 2 mingi au aceeasi culoare\n",
        "ball_1 = 'rosu'\n",
        "ball_2 = 'rosu'\n",
        "\n",
        "if..."
      ],
      "execution_count": null,
      "outputs": []
    },
    {
      "cell_type": "markdown",
      "metadata": {
        "id": "Et1mOaZQUWt9"
      },
      "source": [
        "Dar dacă avem mai mult de 2 opțiuni?\n",
        "\n",
        "Atunci folosim `elif` care e defapt e `else + if`."
      ]
    },
    {
      "cell_type": "code",
      "metadata": {
        "id": "6Gi-w7jSVIjo"
      },
      "source": [
        "# vrem sa stim cat de accesibil este pretul unei inghetate pentru bugetul nostru\n",
        "ice_cream_price = 50\n",
        "accessibility = ''\n",
        "\n",
        "if ice_cream_price == 0:\n",
        "    accessibility = 'Gratuit'\n",
        "elif ice_cream_price <= 10:\n",
        "    accessibility = 'Mediu'\n",
        "else:\n",
        "    accessibility = 'Scump'\n",
        " \n",
        "\n",
        "print(accessibility) # observati ca print() se afla in afara if-ului"
      ],
      "execution_count": null,
      "outputs": []
    },
    {
      "cell_type": "code",
      "metadata": {
        "id": "lAPT9eYBxqaD"
      },
      "source": [
        "# de data asta avem mai multe mingi                             10 min\n",
        "# si ce trebuie sa aflam e daca avem\n",
        "# vreo minge de aceeasi culoare cu mingea 1\n",
        "# - daca avem, afisati \"Mingea 1 cu mingea x au aceeasi culoare\"\n",
        "# - daca nu avem, afisati \"Avem doar o singura minge rosie\"\n",
        "\n",
        "ball_1 = 'rosu'\n",
        "ball_2 = 'verde'\n",
        "ball_3 = 'rosu'\n",
        "ball_4 = 'albastru'\n",
        "\n",
        "if..."
      ],
      "execution_count": null,
      "outputs": []
    },
    {
      "cell_type": "code",
      "metadata": {
        "id": "77XbnbKmWGMR"
      },
      "source": [
        "# dar ce va afisa acest algoritm, daca conditia noastra e o valoare boolean?\n",
        "if True:\n",
        "    print('Da')\n",
        "else:\n",
        "    print('Nu')"
      ],
      "execution_count": null,
      "outputs": []
    },
    {
      "cell_type": "code",
      "metadata": {
        "id": "yolOuyu1WYjJ"
      },
      "source": [
        "# iar aici ce rezultat vom avea?\n",
        "if False:\n",
        "    print('Nu')"
      ],
      "execution_count": null,
      "outputs": []
    },
    {
      "cell_type": "code",
      "metadata": {
        "id": "msWC_TEeCT39"
      },
      "source": [
        "# hai sa mai scriem un algoritm\n",
        "# daca var e mai mare ca 30, afiseaza var, in caz contrar afiseaza False\n",
        "\n",
        "var = 29\n",
        "if...\n"
      ],
      "execution_count": null,
      "outputs": []
    },
    {
      "cell_type": "markdown",
      "metadata": {
        "id": "URVgBXVnwUVH"
      },
      "source": [
        "# Operatori logici"
      ]
    },
    {
      "cell_type": "markdown",
      "metadata": {
        "id": "2Exmp0UGx8uI"
      },
      "source": [
        "### **And**"
      ]
    },
    {
      "cell_type": "markdown",
      "metadata": {
        "id": "WL3xi61YxFsp"
      },
      "source": [
        "Eu voi cumpăra pâine:\n",
        "1. Dacă voi avea bani \n",
        "**ȘI**(**and**)\n",
        "2. Dacă va fi pâine la magazin"
      ]
    },
    {
      "cell_type": "code",
      "metadata": {
        "id": "MfNBJKyiwgEt"
      },
      "source": [
        "# and\n",
        "\n",
        "a = True and True\n",
        "b = True and False\n",
        "c = False and True\n",
        "d = False and False\n",
        "\n",
        "# Cum credeti ce valori vor avea a, b, c, d?\n",
        "# Printam."
      ],
      "execution_count": null,
      "outputs": []
    },
    {
      "cell_type": "markdown",
      "metadata": {
        "id": "Osax6pg0yI5t"
      },
      "source": [
        "## Or"
      ]
    },
    {
      "cell_type": "markdown",
      "metadata": {
        "id": "3yO90BG_yPtX"
      },
      "source": [
        "Eu voi fi fericit/fericită:\n",
        "1. Dacă se termina pandemia\n",
        "**SAU**(**or**)\n",
        "2. Dacă mă vaccinez"
      ]
    },
    {
      "cell_type": "code",
      "metadata": {
        "id": "U5XwT71UzSMQ"
      },
      "source": [
        "# or\n",
        "a = True or True\n",
        "b = True or False\n",
        "c = False or True\n",
        "d = False or False\n",
        "\n",
        "# Cum credeti ce valori vor avea a, b, c, d?\n",
        "# Printam."
      ],
      "execution_count": null,
      "outputs": []
    },
    {
      "cell_type": "markdown",
      "metadata": {
        "id": "GxYp1oZTzfdd"
      },
      "source": [
        "## Not"
      ]
    },
    {
      "cell_type": "markdown",
      "metadata": {
        "id": "DLxhLyJbzmya"
      },
      "source": [
        "Eu voi sta acasă dacă:\n",
        "\n",
        "**NU(not)**\n",
        "\n",
        "Se deschide școala"
      ]
    },
    {
      "cell_type": "code",
      "metadata": {
        "id": "IYFCm8Aq1Bs6"
      },
      "source": [
        "# not\n",
        "\n",
        "a = not True\n",
        "b = not False\n",
        "\n",
        "# Cum credeti ce valori vor avea a, b, c, d?\n",
        "# Printam."
      ],
      "execution_count": null,
      "outputs": []
    },
    {
      "cell_type": "code",
      "metadata": {
        "id": "McY_thMg1ZXi"
      },
      "source": [
        "# Dar de exemplu ce valori vor avea aici a, b, c, d?\n",
        "a = not (True and True)\n",
        "b = not (False and True)\n",
        "c = not (False or True)\n",
        "d = not (False or False)\n",
        "\n",
        "# print"
      ],
      "execution_count": null,
      "outputs": []
    },
    {
      "cell_type": "markdown",
      "metadata": {
        "id": "ZNoJP5EtjEDv"
      },
      "source": [
        "Întrebări ?"
      ]
    },
    {
      "cell_type": "markdown",
      "metadata": {
        "id": "zhbRU4xJjR1k"
      },
      "source": [
        "# Input()"
      ]
    },
    {
      "cell_type": "code",
      "metadata": {
        "id": "Ath7OCF0jWVQ"
      },
      "source": [
        "input()"
      ],
      "execution_count": null,
      "outputs": []
    },
    {
      "cell_type": "code",
      "metadata": {
        "id": "M6Kb-qARjgvS"
      },
      "source": [
        "a = input()\n",
        "\n",
        "type(a)"
      ],
      "execution_count": null,
      "outputs": []
    },
    {
      "cell_type": "markdown",
      "metadata": {
        "id": "uan32HoH6RQW"
      },
      "source": [
        "# Exercitii!"
      ]
    },
    {
      "cell_type": "markdown",
      "metadata": {
        "id": "8T3RcB2CUXsI"
      },
      "source": [
        "1. Scrie un program care va afișa \"a este egal cu b si c este egal d\", dacă într-adevăr `a` este egal cu `b` și `c` este egal cu `d`. Dacă aceasta nu este adevărat, atunci transformă variabilele in așa fel, încât afirmația de mai sus să fie adevărată...\n",
        "\n",
        "\n",
        "1.2 Challenge! Extensie a problemei: ...și mai verifică o dată dacă `a` este egal cu `b` și dacă `c` este egal cu `d`. Dacă într-un final aceste afirmații vor fi egale, printează \"acum a este egal cu b si c este egal d\"."
      ]
    },
    {
      "cell_type": "code",
      "metadata": {
        "id": "it3FQ1THktJJ"
      },
      "source": [
        "a = 5\n",
        "b = '5'\n",
        "c = 10\n",
        "d = 10.5\n",
        "\n"
      ],
      "execution_count": null,
      "outputs": []
    },
    {
      "cell_type": "code",
      "metadata": {
        "id": "nrUpIXkbks8o"
      },
      "source": [
        "\n"
      ],
      "execution_count": null,
      "outputs": []
    },
    {
      "cell_type": "markdown",
      "metadata": {
        "id": "SoCmT6F5h5Hr"
      },
      "source": [
        "2. Scrie un program care verifică dacă valoarea variabilei `a` este modulul lui 10 sau nu. Dacă da atunci afișează 'a este modulul lui 10', daca nu, atunci afișează 'a nu este modulul lui 10'.\n",
        "\n",
        "\n",
        "2.1 Challenge! Extensie a problemei:...dacă `a` nu este modulul lui 10 atunci verifică cât de aproape este `a` de un modul a lui 10, dacă e cu 2 unități mai mare sau mai mic decât modulul lui 10 atunci afișează 'a este aproape de modulul lui 10', dacă nu, atunci  afișează 'a este departe de modulul lui 10'"
      ]
    },
    {
      "cell_type": "code",
      "metadata": {
        "id": "s-e7NsLgks6M"
      },
      "source": [
        ""
      ],
      "execution_count": null,
      "outputs": []
    },
    {
      "cell_type": "markdown",
      "metadata": {
        "id": "vYI4wOF-vYZk"
      },
      "source": [
        "3. Creați o variabilă, `b`, și atribuiți-i valoarea `15`. Apoi, scrieți cod pentru a vedea dacă valoarea `b` este mai mare decât cea `a`. Dacă este, valoarea lui a trebuie `înmulțită cu 2`. Dacă valoarea lui `b` este mai mică sau egală cu `a`, nu ar trebui să se întâmple nimic. În cele din urmă, creați variabila `c` și atribuiți-i valoarea sumei lui `a `și `b`."
      ]
    },
    {
      "cell_type": "code",
      "metadata": {
        "id": "oKgIVkDWvmme"
      },
      "source": [
        "a = 20 "
      ],
      "execution_count": null,
      "outputs": []
    },
    {
      "cell_type": "markdown",
      "metadata": {
        "id": "5l8yHW1CwMW5"
      },
      "source": [
        "4. Un an este un an bisect dacă este divizibil cu 4. Dacă anul poate fi împărțit în mod egal la 100, NU este un an bisect, cu excepția cazului în care anul este, de asemenea, divizibil în mod egal cu 400. Atunci este un an bisect. Scrieți cod care solicită utilizatorului să introducă un an și să scoată `True` dacă este un an bisect sau `False` în caz contrar. Folosiți declarațiile `if`.\n",
        "\n",
        "1944 True\n",
        "\n",
        "2011 False\n",
        " \n",
        "1986 False\n",
        "\n",
        "1800 False\n",
        "\n",
        "1900 False\n",
        "\n",
        "2000 True\n",
        "\n",
        "2056 True\n",
        "\n",
        "\n",
        "Mai sus sunt câteva exemple despre cum ar trebui să fie output-ul pentru diferite input-uri.\n",
        "\n"
      ]
    },
    {
      "cell_type": "code",
      "metadata": {
        "id": "nCYD2RWoO-SL"
      },
      "source": [
        ""
      ],
      "execution_count": null,
      "outputs": []
    },
    {
      "cell_type": "markdown",
      "metadata": {
        "id": "lu22joYKxYtN"
      },
      "source": [
        "5. Scrieți un program folosind condiționalul if, astfel încât dacă `„Friendly”` este subsecventa a sirului `w`, atunci `„Friendly is here!”` ar trebui să fie atribuită variabilei `wrd`. Dacă nu, verificați dacă `„Friend” `este în `w`. Dacă da, stringul `„Friend is here!”` ar trebui să fie atribuită variabilei `wrd`, altfel `„No variation of friend is in here.”`. ar trebui să fie atribuită variabilei `wrd`. (Fiți atenți la ordinea instrucțiunilor in programul dvs.)\n",
        "\n"
      ]
    },
    {
      "cell_type": "code",
      "metadata": {
        "id": "x_2-8VoVks3x"
      },
      "source": [
        "w = \"Friendship is a wonderful human experience!\"\n"
      ],
      "execution_count": null,
      "outputs": []
    },
    {
      "cell_type": "code",
      "metadata": {
        "id": "9bSnPzajvmsG"
      },
      "source": [
        ""
      ],
      "execution_count": null,
      "outputs": []
    }
  ]
}